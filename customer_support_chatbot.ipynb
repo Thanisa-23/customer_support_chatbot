{
  "nbformat": 4,
  "nbformat_minor": 0,
  "metadata": {
    "colab": {
      "provenance": []
    },
    "kernelspec": {
      "name": "python3",
      "display_name": "Python 3"
    },
    "language_info": {
      "name": "python"
    }
  },
  "cells": [
    {
      "cell_type": "code",
      "execution_count": 4,
      "metadata": {
        "colab": {
          "base_uri": "https://localhost:8080/"
        },
        "id": "Q3E85Ip0H9US",
        "outputId": "7e7bbd75-b809-4e5f-a574-5508c3f38f22"
      },
      "outputs": [
        {
          "output_type": "stream",
          "name": "stdout",
          "text": [
            "Bot: Hi! Ask about orders/returns. Type 'bye' to exit.\n",
            "You: hi\n",
            "Bot: Hi there! How can I help?\n",
            "You: where is my order\n",
            "Bot: Your order #123 will arrive Friday.\n",
            "You: how to return\n",
            "Bot: Start returns within 30 days.\n",
            "You: thanks\n",
            "Bot: I didn't understand. Contact support@example.com\n",
            "You: bye\n",
            "Bot: Have a nice day!\n"
          ]
        }
      ],
      "source": [
        "# Simple Customer Support Chatbot\n",
        "responses = {\n",
        "    \"hi\": [\"Hello! Welcome to our support.\", \"Hi there! How can I help?\"],\n",
        "    \"order\": [\"Your order #123 will arrive Friday.\", \"Please check your email for tracking.\"],\n",
        "    \"return\": [\"Visit returns.example.com\", \"Start returns within 30 days.\"],\n",
        "    \"bye\": [\"Goodbye!\", \"Have a nice day!\"],\n",
        "    \"default\": [\"I didn't understand. Contact support@example.com\"]\n",
        "}\n",
        "\n",
        "def chatbot():\n",
        "    print(\"Bot: Hi! Ask about orders/returns. Type 'bye' to exit.\")\n",
        "    while True:\n",
        "        user_input = input(\"You: \").lower()\n",
        "\n",
        "        if user_input in [\"exit\", \"bye\", \"quit\"]:\n",
        "            print(\"Bot:\", random.choice(responses[\"bye\"]))\n",
        "            break\n",
        "        elif \"hi\" in user_input:\n",
        "            print(\"Bot:\", random.choice(responses[\"hi\"]))\n",
        "        elif \"order\" in user_input:\n",
        "            print(\"Bot:\", random.choice(responses[\"order\"]))\n",
        "        elif \"return\" in user_input:\n",
        "            print(\"Bot:\", random.choice(responses[\"return\"]))\n",
        "        else:\n",
        "            print(\"Bot:\", random.choice(responses[\"default\"]))\n",
        "\n",
        "# Run the chatbot\n",
        "import random\n",
        "chatbot()"
      ]
    }
  ]
}